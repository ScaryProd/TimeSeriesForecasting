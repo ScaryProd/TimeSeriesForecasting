{
 "cells": [
  {
   "cell_type": "markdown",
   "id": "d8297afb",
   "metadata": {},
   "source": [
    "# Data Science Final Project\n",
    "## Members:\n",
    "\n",
    "- Santiago Reyes Chávez A01027358\n",
    "- Angel Limones A00825333\n",
    "- Ulrik Alberto Nuño Tapia A00821805\n",
    "- Alvaro Fernando Santana Martinez A01196914\n",
    "- Luis Ignacio Acosta A01411895"
   ]
  },
  {
   "cell_type": "markdown",
   "id": "8140d13d",
   "metadata": {},
   "source": [
    "# Project Definition\n",
    "In this “getting started” competition, we’ll use time-series forecasting to forecast store sales on data from Corporación Favorita, a large Ecuadorian-based grocery retailer.\n",
    "\n",
    "Specifically, we'll build a model that more accurately predicts the unit sales for thousands of items sold at different Favorita stores. we'll practice your machine learning skills with an approachable training dataset of dates, store, and item information, promotions, and unit sales."
   ]
  },
  {
   "cell_type": "markdown",
   "id": "68271920",
   "metadata": {},
   "source": [
    "# Imports"
   ]
  },
  {
   "cell_type": "code",
   "execution_count": null,
   "id": "a8cc6a34",
   "metadata": {},
   "outputs": [],
   "source": [
    "%matplotlib inline\n",
    "import numpy as np\n",
    "import scipy as sp\n",
    "import matplotlib as mpl\n",
    "import matplotlib.cm as cm\n",
    "import matplotlib.pyplot as plt\n",
    "import pandas as pd\n",
    "import time\n",
    "import seaborn as sns"
   ]
  },
  {
   "cell_type": "markdown",
   "id": "6fcc96b1",
   "metadata": {},
   "source": [
    "# Data Collection"
   ]
  },
  {
   "cell_type": "code",
   "execution_count": null,
   "id": "5d5ea3e3",
   "metadata": {},
   "outputs": [],
   "source": []
  },
  {
   "cell_type": "markdown",
   "id": "bc64e092",
   "metadata": {},
   "source": [
    "# Data Cleaning"
   ]
  },
  {
   "cell_type": "code",
   "execution_count": null,
   "id": "3604c823",
   "metadata": {},
   "outputs": [],
   "source": []
  },
  {
   "cell_type": "markdown",
   "id": "3e16872b",
   "metadata": {},
   "source": [
    "# Statistic Analysis"
   ]
  },
  {
   "cell_type": "code",
   "execution_count": null,
   "id": "d97fd4f6",
   "metadata": {},
   "outputs": [],
   "source": []
  },
  {
   "cell_type": "markdown",
   "id": "fae67ef9",
   "metadata": {},
   "source": [
    "# Feature Engineering"
   ]
  },
  {
   "cell_type": "code",
   "execution_count": null,
   "id": "8f27b60a",
   "metadata": {},
   "outputs": [],
   "source": []
  },
  {
   "cell_type": "markdown",
   "id": "78accc67",
   "metadata": {},
   "source": [
    "# Pre-Modeling Work"
   ]
  },
  {
   "cell_type": "code",
   "execution_count": null,
   "id": "fd3f7503",
   "metadata": {},
   "outputs": [],
   "source": []
  },
  {
   "cell_type": "markdown",
   "id": "7f975a9b",
   "metadata": {},
   "source": [
    "# Modeling"
   ]
  },
  {
   "cell_type": "code",
   "execution_count": null,
   "id": "ab547d70",
   "metadata": {},
   "outputs": [],
   "source": []
  },
  {
   "cell_type": "markdown",
   "id": "1d17fedc",
   "metadata": {},
   "source": [
    "# Results"
   ]
  },
  {
   "cell_type": "code",
   "execution_count": null,
   "id": "ec4da67c",
   "metadata": {},
   "outputs": [],
   "source": []
  }
 ],
 "metadata": {
  "kernelspec": {
   "display_name": "Python 3 (ipykernel)",
   "language": "python",
   "name": "python3"
  },
  "language_info": {
   "codemirror_mode": {
    "name": "ipython",
    "version": 3
   },
   "file_extension": ".py",
   "mimetype": "text/x-python",
   "name": "python",
   "nbconvert_exporter": "python",
   "pygments_lexer": "ipython3",
   "version": "3.9.7"
  }
 },
 "nbformat": 4,
 "nbformat_minor": 5
}
